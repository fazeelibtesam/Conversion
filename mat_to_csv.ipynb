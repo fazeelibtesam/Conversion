{
  "nbformat": 4,
  "nbformat_minor": 0,
  "metadata": {
    "colab": {
      "provenance": [],
      "authorship_tag": "ABX9TyNArwvAUe/VW4RfjE0/Skzj",
      "include_colab_link": true
    },
    "kernelspec": {
      "name": "python3",
      "display_name": "Python 3"
    },
    "language_info": {
      "name": "python"
    }
  },
  "cells": [
    {
      "cell_type": "markdown",
      "metadata": {
        "id": "view-in-github",
        "colab_type": "text"
      },
      "source": [
        "<a href=\"https://colab.research.google.com/github/fazeelibtesam/Conversion/blob/main/mat_to_csv.ipynb\" target=\"_parent\"><img src=\"https://colab.research.google.com/assets/colab-badge.svg\" alt=\"Open In Colab\"/></a>"
      ]
    },
    {
      "cell_type": "markdown",
      "source": [
        "STEPS :\n",
        "\n",
        "1. Create a Folder under sample_data\n",
        "\n",
        "2. Upload .mat file in that folder\n",
        "\n",
        "3. Copy path and paste in the directory"
      ],
      "metadata": {
        "id": "T5BjZFjEXaUL"
      }
    },
    {
      "cell_type": "code",
      "source": [
        "pip install scipy pandas h5py"
      ],
      "metadata": {
        "colab": {
          "base_uri": "https://localhost:8080/"
        },
        "id": "kkn1vkZdUBC8",
        "outputId": "2e7f2e15-81b9-43e4-e050-002d9c010cc6"
      },
      "execution_count": null,
      "outputs": [
        {
          "output_type": "stream",
          "name": "stdout",
          "text": [
            "Requirement already satisfied: scipy in /usr/local/lib/python3.11/dist-packages (1.13.1)\n",
            "Requirement already satisfied: pandas in /usr/local/lib/python3.11/dist-packages (2.2.2)\n",
            "Requirement already satisfied: h5py in /usr/local/lib/python3.11/dist-packages (3.12.1)\n",
            "Requirement already satisfied: numpy<2.3,>=1.22.4 in /usr/local/lib/python3.11/dist-packages (from scipy) (1.26.4)\n",
            "Requirement already satisfied: python-dateutil>=2.8.2 in /usr/local/lib/python3.11/dist-packages (from pandas) (2.8.2)\n",
            "Requirement already satisfied: pytz>=2020.1 in /usr/local/lib/python3.11/dist-packages (from pandas) (2025.1)\n",
            "Requirement already satisfied: tzdata>=2022.7 in /usr/local/lib/python3.11/dist-packages (from pandas) (2025.1)\n",
            "Requirement already satisfied: six>=1.5 in /usr/local/lib/python3.11/dist-packages (from python-dateutil>=2.8.2->pandas) (1.17.0)\n"
          ]
        }
      ]
    },
    {
      "cell_type": "code",
      "source": [
        "import os\n",
        "import h5py\n",
        "import pandas as pd"
      ],
      "metadata": {
        "id": "nmLbKiy7YDQ_"
      },
      "execution_count": null,
      "outputs": []
    },
    {
      "cell_type": "markdown",
      "source": [
        "# TO KNOW THE MAT FILE DETAILS"
      ],
      "metadata": {
        "id": "_6QzGIJDYj2i"
      }
    },
    {
      "cell_type": "code",
      "source": [
        "# Define the directory containing the .mat files\n",
        "input_dir = '/content/sample_data/archive1'\n",
        "\n",
        "# Loop through all files in the input directory\n",
        "for filename in os.listdir(input_dir):\n",
        "    if filename.endswith('.mat'):\n",
        "        # Load the .mat file using h5py\n",
        "        mat_file_path = os.path.join(input_dir, filename)\n",
        "        with h5py.File(mat_file_path, 'r') as mat_data:\n",
        "            print(f\"Contents of {filename}:\")\n",
        "            # Print the keys and their types\n",
        "            for key in mat_data.keys():\n",
        "                print(f\"Key: {key}, Type: {type(mat_data[key])}\")\n",
        "                # If it's a group, print its subkeys\n",
        "                if isinstance(mat_data[key], h5py.Group):\n",
        "                    print(\"Subkeys:\")\n",
        "                    for subkey in mat_data[key].keys():\n",
        "                        print(f\"  Subkey: {subkey}, Type: {type(mat_data[key][subkey])}\")"
      ],
      "metadata": {
        "id": "yy9l_P3iYfL5"
      },
      "execution_count": null,
      "outputs": []
    },
    {
      "cell_type": "markdown",
      "source": [
        "# UPDATE THE INFO IN BELOW CODE"
      ],
      "metadata": {
        "id": "fGuoKsJQYp7S"
      }
    },
    {
      "cell_type": "code",
      "source": [
        "# Define the directory containing the .mat files\n",
        "directory = '/content/sample_data/archive1'    #Add your path here\n",
        "\n",
        "# Initialize an empty list to hold the data\n",
        "data_list = []\n",
        "\n",
        "# Loop through all .mat files in the directory\n",
        "for filename in os.listdir(directory):\n",
        "    if filename.endswith('.mat'):\n",
        "        file_path = os.path.join(directory, filename)\n",
        "\n",
        "        # Open the .mat file\n",
        "        with h5py.File(file_path, 'r') as mat_file:\n",
        "            # Access the 'cjdata' group\n",
        "            cjdata = mat_file['cjdata']\n",
        "\n",
        "            # Extract the datasets\n",
        "            pid = cjdata['PID'][()]\n",
        "            image = cjdata['image'][()]\n",
        "            label = cjdata['label'][()]\n",
        "            tumor_border = cjdata['tumorBorder'][()]\n",
        "            tumor_mask = cjdata['tumorMask'][()]\n",
        "\n",
        "            # Append the data to the list\n",
        "            data_list.append({\n",
        "                'PID': pid,\n",
        "                'Image': image,\n",
        "                'Label': label,\n",
        "                'TumorBorder': tumor_border,\n",
        "                'TumorMask': tumor_mask\n",
        "            })\n",
        "\n",
        "# Create a DataFrame from the list of data\n",
        "df = pd.DataFrame(data_list)\n",
        "\n",
        "# Save the DataFrame to a CSV file\n",
        "df.to_csv('output.csv', index=False)\n",
        "\n",
        "print(\"Data has been successfully converted to output.csv\")"
      ],
      "metadata": {
        "colab": {
          "base_uri": "https://localhost:8080/"
        },
        "id": "uKq10gyHUGJV",
        "outputId": "03c52d2d-381b-4a64-e483-bd56fe0660ba"
      },
      "execution_count": null,
      "outputs": [
        {
          "output_type": "stream",
          "name": "stdout",
          "text": [
            "Data has been successfully converted to output.csv\n"
          ]
        }
      ]
    }
  ]
}